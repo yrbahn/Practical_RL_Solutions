{
 "cells": [
  {
   "cell_type": "code",
   "execution_count": 1,
   "metadata": {
    "collapsed": true
   },
   "outputs": [],
   "source": [
    "EASY_MODE = True\n",
    "\n",
    "MODE = \"he-to-en\"\n",
    "END = ';'  \n",
    "MAX_OUTPUT_LENGTH = 50 if not EASY_MODE else 20\n",
    "REPORT_FREQ       = 100    "
   ]
  },
  {
   "cell_type": "markdown",
   "metadata": {},
   "source": [
    "## Step1.  전처리"
   ]
  },
  {
   "cell_type": "code",
   "execution_count": 2,
   "metadata": {},
   "outputs": [
    {
     "name": "stdout",
     "output_type": "stream",
     "text": [
      "size =  130699\n"
     ]
    }
   ],
   "source": [
    "import numpy as np\n",
    "from collections import defaultdict\n",
    "word_to_translation = defaultdict(list)\n",
    "\n",
    "with open(\"main_dataset.txt\") as fin:\n",
    "    for line in fin:\n",
    "        en, he = line[:-1].lower().replace(END,' ').split('\\t')\n",
    "        word, trans = (he,en) if MODE=='he-to-en' else (en,he)\n",
    "        if EASY_MODE:\n",
    "            if max(len(word), len(trans)) > 20:\n",
    "                continue\n",
    "        word_to_translation[word+END].append(trans+END)\n",
    "print(\"size = \", len(word_to_translation))\n",
    "\n"
   ]
  },
  {
   "cell_type": "code",
   "execution_count": 3,
   "metadata": {},
   "outputs": [
    {
     "name": "stdout",
     "output_type": "stream",
     "text": [
      "{'ל': 0, 'г': 1, 'ل': 2, 'ت': 3, '*': 4, 'ַ': 5, 'گ': 6, 'k': 7, 'ִ': 8, 'خ': 9, 'ц': 10, 'g': 11, '-': 12, 'チ': 13, '½': 14, 'þ': 15, 'ع': 16, 'ъ': 17, '♯': 18, 'س': 19, 'ю': 20, '仙': 21, 'а': 22, 'q': 23, 'צ': 24, 'ֵ': 25, '¡': 26, '\\\\': 27, 'ظ': 28, 'ö': 29, '²': 30, '6': 31, 'ﭺ': 32, 'с': 33, 'р': 34, 't': 35, 'ک': 36, 'к': 37, 'と': 38, 'o': 39, '–': 40, '+': 41, 'x': 42, '•': 43, 'ذ': 44, 'י': 45, 'ּ': 46, 'マ': 47, 'غ': 48, 'ס': 49, 'z': 50, 'ě': 51, '7': 52, '−': 53, 'ב': 54, 'и': 55, 'ө': 56, '×': 57, 'ø': 58, 'ҙ': 59, 'в': 60, 'ê': 61, 'ם': 62, '″': 63, 'ŭ': 64, 'ѯ': 65, 'ֿ': 66, 'ŝ': 67, 'ף': 68, '0': 69, 'ش': 70, 'b': 71, '!': 72, 'ĉ': 73, 'מ': 74, '8': 75, 'з': 76, 'ѓ': 77, '御': 78, 'f': 79, '·': 80, 'х': 81, 'ấ': 82, 'ץ': 83, 'ĝ': 84, 'щ': 85, 'ח': 86, 'l': 87, '#': 88, 'ָ': 89, 'あ': 90, 'ы': 91, 'ç': 92, 'ا': 93, '2': 94, '白': 95, '桜': 96, 'ש': 97, \"'\": 98, 'p': 99, 'ぺ': 100, 'ﭪ': 101, 'т': 102, 'ג': 103, 'ж': 104, 'פ': 105, 'ñ': 106, 'è': 107, '4': 108, '/': 109, 'ױ': 110, 'ß': 111, ',': 112, '׳': 113, 'r': 114, 'ú': 115, '.': 116, 'ق': 117, 'j': 118, 'ر': 119, 'ら': 120, 'ÿ': 121, 'ó': 122, 'я': 123, '′': 124, '$': 125, 'א': 126, 'נ': 127, 'e': 128, 'š': 129, '1': 130, 'б': 131, 'ן': 132, 'v': 133, ';': 134, 'ׁ': 135, 'w': 136, 'u': 137, '&': 138, 'л': 139, '\"': 140, 'џ': 141, 'ض': 142, 'п': 143, 'ث': 144, '門': 145, 'ộ': 146, 'ק': 147, '猫': 148, 'm': 149, 'ד': 150, '3': 151, 'ѳ': 152, 'コ': 153, '熊': 154, 'ژ': 155, '9': 156, 'c': 157, 'ò': 158, '=': 159, '星': 160, 'à': 161, 'ѻ': 162, '?': 163, ')': 164, 'е': 165, 'ғ': 166, '榎': 167, 'ĵ': 168, 'ט': 169, 'ص': 170, 'ה': 171, 'ע': 172, 'ぼ': 173, 'ü': 174, 'ф': 175, 'ӟ': 176, '子': 177, 'ə': 178, ':': 179, 'る': 180, '°': 181, 'ז': 182, 'д': 183, 'á': 184, 's': 185, 'و': 186, 'כ': 187, 'a': 188, 'ӎ': 189, 'č': 190, '∂': 191, 'ی': 192, '≤': 193, 'é': 194, 'ר': 195, 'ь': 196, 'у': 197, 'ŋ': 198, 'ń': 199, 'ת': 200, '(': 201, 'ґ': 202, 'م': 203, '5': 204, 'n': 205, 'd': 206, 'i': 207, 'μ': 208, '־': 209, 'タ': 210, 'о': 211, '守': 212, '一': 213, 'ш': 214, '@': 215, 'ء': 216, 'h': 217, 'い': 218, 'ӡ': 219, 'н': 220, 'í': 221, 'ו': 222, 'ך': 223, '野': 224, ' ': 225, '’': 226, 'ﭖ': 227, 'っ': 228, 'y': 229, 'ف': 230}\n"
     ]
    }
   ],
   "source": [
    "# 소스 언어에서 모든 유니크한 문자를 구하자(a.k.a 소스 사전)\n",
    "all_words = list(word_to_translation.keys())\n",
    "source_letters = list(set(''.join(all_words)))\n",
    "source_to_ix = {l:i for i,l in enumerate(source_letters)}\n",
    "print(source_to_ix)"
   ]
  },
  {
   "cell_type": "code",
   "execution_count": 4,
   "metadata": {},
   "outputs": [
    {
     "name": "stdout",
     "output_type": "stream",
     "text": [
      "['ל', 'ل', 'ت', '*', 'ļ', 'ら', 'k', 'ẓ', 'ŏ', 'υ', 'ù', '→', 'ę', 'ṇ', 'ζ', 'g', '≤', 'ή', '-', 'チ', '½', 'ц', 'þ', '^', 'ư', 'ع', 'ģ', 'ъ', 'ț', 'س', 'ю', 'ı', 'ả', '仙', 'ą', 'ņ', 'ş', 'а', 'î', 'q', '¡', 'צ', 'ḥ', 'ö', 'ï', '²', '6', 'ä', 'р', 't', 'đ', 'ν', 'ک', 'å', 'と', 'o', 'к', '–', 'δ', 'ð', 'x', '+', 'ớ', '•', 'ô', 'י', 'マ', 'ס', 'ħ', 'z', 'ě', '7', '−', 'ồ', 'ב', 'վ', 'и', '×', 'ø', 'ṯ', 'ê', 'в', 'ם', '″', 'ŭ', 'ŝ', '0', 'ף', 'b', '!', 'ế', '8', 'õ', 'ṃ', 'ĉ', 'מ', 'f', '·', '御', 'ấ', 'ž', 'ĝ', 'ח', 'l', 'ứ', 'ī', '~', 'あ', 'ē', '%', 'ć', 'ḍ', 'ç', 'ا', '2', '白', '桜', 'ы', 'ש', \"'\", 'p', 'ì', 'ā', 'ぺ', 'ţ', 'т', 'ű', '`', 'ʿ', 'ľ', 'פ', 'ñ', 'è', '4', '/', 'ș', 'ß', ',', 'ú', 'r', '門', '.', 'â', 'j', 'ý', '—', 'ق', 'ź', 'ر', 'ÿ', 'ó', 'я', 'ɱ', 'ų', 'ա', '′', '$', 'ë', 'א', 'e', 'נ', 'š', '1', 'ă', 'ỹ', 'ր', 'ť', 'ō', 'ż', 'ן', 'v', 'τ', 'η', ';', 'œ', 'û', 'w', 'u', '&', 'л', 'ạ', '\"', 'ỏ', 'п', 'ộ', 'ő', 'ь', 'ק', '猫', 'm', 'ד', '3', 'コ', '熊', 'կ', '9', 'c', 'ò', 'ķ', '=', 'à', '星', 'ف', '陳', 'ś', '‘', '?', ')', 'π', 'е', '…', '榎', 'ĵ', 'ט', 'ص', 'ü', 'ע', 'ה', 'ぼ', 'ф', '子', 'ḫ', 'ə', ':', 'る', '°', 'ğ', 'ז', 'á', 's', 'و', 'a', 'כ', 'č', '∂', 'ḳ', 'ọ', 'é', 'ė', 'ר', 'ی', 'µ', '⋯', 'ễ', 'ε', '老', 'ŋ', 'ơ', 'ď', 'у', 'ń', 'ρ', 'ň', 'ת', '(', 'ղ', 'م', 'd', 'n', '5', 'ū', 'i', 'μ', 'ř', 'ã', 'タ', 'о', '守', 'ʻ', '一', 'い', '@', 'ш', 'h', 'æ', 'í', 'ο', 'н', 'ו', 'ḏ', '̇', '野', 'ג', 'ł', ' ', 'ů', '♭', '’', 'っ', 'զ', 'y', 'σ', 'ʾ']\n"
     ]
    }
   ],
   "source": [
    "#타켓 언어에서 모든 유니크한 문자를 구하자\n",
    "all_translations = [ts for all_ts in word_to_translation.values() for ts in all_ts]\n",
    "target_letters = list(set([l for ts in all_translations for l in ts] + [\" \"]))\n",
    "target_to_ix = {l:i for i,l in enumerate(target_letters)}\n",
    "print(target_letters)"
   ]
  },
  {
   "cell_type": "code",
   "execution_count": 5,
   "metadata": {
    "collapsed": true
   },
   "outputs": [],
   "source": [
    "#특별한 토근들\n",
    "PAD_ix=-1\n",
    "EOS_ix_source=source_letters.index(END)\n",
    "EOS_ix_target=target_letters.index(END)\n",
    "BOS_ix_target = target_letters.index(\" \")"
   ]
  },
  {
   "cell_type": "markdown",
   "metadata": {},
   "source": [
    "작업의 범위를 예측하기위해 단어/번역 길이 분포를 그리자\n"
   ]
  },
  {
   "cell_type": "code",
   "execution_count": 6,
   "metadata": {},
   "outputs": [
    {
     "data": {
      "image/png": "[encoded data removed]",
      "text/plain": [
       "<matplotlib.figure.Figure at 0x7f6dc4d27630>"
      ]
     },
     "metadata": {},
     "output_type": "display_data"
    }
   ],
   "source": [
    "import matplotlib.pyplot as plt\n",
    "%matplotlib inline\n",
    "plt.figure(figsize=[8,4])\n",
    "plt.subplot(1,2,1)\n",
    "plt.title(\"words\")\n",
    "plt.hist(list(map(len,all_words)),bins=25);\n",
    "\n",
    "plt.subplot(1,2,2)\n",
    "plt.title('translations')\n",
    "plt.hist(list(map(len,all_translations)),bins=25);\n"
   ]
  },
  {
   "cell_type": "markdown",
   "metadata": {},
   "source": [
    "## 두번째 단계: 보조 함수들\n",
    "몇가지 헬퍼 함수가 필요하다:\n",
    "- 문자열로부터 데이타를 정수 행렬들로 바꾸기\n",
    "- 샘플 랜덤 미니배치"
   ]
  },
  {
   "cell_type": "code",
   "execution_count": 7,
   "metadata": {
    "collapsed": true
   },
   "outputs": [],
   "source": [
    "def as_matrix(sequences, token_to_i, max_len=None, PAX_ix=PAD_ix):\n",
    "    \"\"\"\n",
    "    가변 길이 토근 시퀀스를 고정된 크기의 행렬로 바꾸자.\n",
    "    사용 예제:\n",
    "    >>>print( as_matrix(words[:3],source_to_ix))\n",
    "    [[15 22 21 28 27 13 -1 -1 -1 -1 -1]\n",
    "     [30 21 15 15 21 14 28 27 13 -1 -1]\n",
    "     [25 37 31 34 21 20 37 21 28 19 13]]\n",
    "    \"\"\"\n",
    "    \n",
    "    max_len = max_len or max(map(len, sequences))\n",
    "    \n",
    "    matrix = np.zeros((len(sequences), max_len), dtype='int32') + PAD_ix\n",
    "    for i,seq in enumerate(sequences):\n",
    "        row_ix = list(map(token_to_i.get, seq))[:max_len]\n",
    "        matrix[i,:len(row_ix)] = row_ix\n",
    "    \n",
    "    return matrix"
   ]
  },
  {
   "cell_type": "code",
   "execution_count": 8,
   "metadata": {
    "collapsed": true
   },
   "outputs": [],
   "source": [
    "import random\n",
    "def sample_batch(words, word_to_translation, batch_size):\n",
    "    \"\"\"\n",
    "    각 단어에 대해 단어와 랜덤한 올바른 번역의 랜덤 배치를 샘플링하기\n",
    "    예제 사용법:\n",
    "        batch_x, batch_y = sample_batch(train_words, word_to_translations, 10)\n",
    "    \"\"\"\n",
    "    \n",
    "    #단어들 선택하기\n",
    "    batch_words = np.random.choice(words, size=batch_size)\n",
    "    \n",
    "    #번역 선택하기\n",
    "    batch_trans_candidates = list(map(word_to_translation.get, batch_words))\n",
    "    batch_trans = list(map(random.choice, batch_trans_candidates))\n",
    "    \n",
    "    return as_matrix(batch_words,source_to_ix), as_matrix(batch_trans,target_to_ix)"
   ]
  },
  {
   "cell_type": "markdown",
   "metadata": {},
   "source": [
    "### 데이터 셋 자르기\n",
    "모든 단어의 20프는 확인(validation)를 위해 사용질 것이다."
   ]
  },
  {
   "cell_type": "code",
   "execution_count": 9,
   "metadata": {},
   "outputs": [
    {
     "name": "stderr",
     "output_type": "stream",
     "text": [
      "/hanmail/.pyenv/versions/anaconda3-4.3.1/lib/python3.6/site-packages/sklearn/cross_validation.py:44: DeprecationWarning: This module was deprecated in version 0.18 in favor of the model_selection module into which all the refactored classes and functions are moved. Also note that the interface of the new CV iterators are different from that of this module. This module will be removed in 0.20.\n",
      "  \"This module will be removed in 0.20.\", DeprecationWarning)\n"
     ]
    }
   ],
   "source": [
    "from sklearn.cross_validation import train_test_split\n",
    "train_words,test_words = train_test_split(all_words,test_size=0.1,random_state=42)"
   ]
  },
  {
   "cell_type": "markdown",
   "metadata": {},
   "source": [
    "## 3단계: encoder-decoder를 생성하기\n",
    "아키텍쳐는 두개의 주요 블록으로 구성된다:\n",
    "-- Encoder는 단어들을 문자로 읽고 코드 벡터를 리턴한다.(일반적으로 마지막 RNN 상태의 함수)\n",
    "-- Decoder는 그 코드 벡터를 가지고 문자단위로 번역을 리턴한다\n",
    "\n",
    "이 섹션에서 encoder를 구현할것이다."
   ]
  },
  {
   "cell_type": "code",
   "execution_count": 10,
   "metadata": {},
   "outputs": [
    {
     "name": "stderr",
     "output_type": "stream",
     "text": [
      "WARNING (theano.sandbox.cuda): The cuda backend is deprecated and will be removed in the next release (v0.10).  Please switch to the gpuarray backend. You can get more information about how to switch at this URL:\n",
      " https://github.com/Theano/Theano/wiki/Converting-to-the-new-gpu-back-end%28gpuarray%29\n",
      "\n",
      "Using gpu device 0: TITAN X (Pascal) (CNMeM is enabled with initial size: 95.0% of memory, cuDNN 5105)\n"
     ]
    }
   ],
   "source": [
    "import theano\n",
    "import theano.tensor as T\n",
    "\n",
    "import lasagne\n",
    "from lasagne.layers import *"
   ]
  },
  {
   "cell_type": "code",
   "execution_count": 11,
   "metadata": {
    "collapsed": true
   },
   "outputs": [],
   "source": [
    "def get_mask_by_eos(is_eos):\n",
    "    \"\"\" \"지금 부터 끝이다\"의 표시를 가지고, mask를 리턴한다. \n",
    "    첫번째 마지막이후로 모든것을 무시한다. \n",
    "    [[False,False,True,True]] -> [[1,1,1,0]]\n",
    "    \"\"\"\n",
    "    assert is_eos.ndim==2\n",
    "    is_right_after_eos = T.concatenate([T.zeros_like(is_eos[:,:1]),is_eos[:,:-1]],-1)\n",
    "    is_after_eos = T.eq(T.cumsum(is_right_after_eos,axis=-1), 0).astype('uint8')\n",
    "    return is_after_eos\n"
   ]
  },
  {
   "cell_type": "code",
   "execution_count": 12,
   "metadata": {
    "collapsed": true
   },
   "outputs": [],
   "source": [
    "class encoder:\n",
    "    #input tokens and mask\n",
    "    input_sequence = T.matrix('token sequence', 'int32')\n",
    "    #T.eq([[1,2,3,5]], 5) -> [[False, False, False, True]]\n",
    "    input_mask = get_mask_by_eos(T.eq(input_sequence, EOS_ix_source))\n",
    "    \n",
    "    inp = InputLayer(shape=(None, None),input_var=input_sequence,name='encoder input')\n",
    "    mask = InputLayer(shape=(None, None), input_var=input_mask)\n",
    "    \n",
    "    #embedding\n",
    "    emb = EmbeddingLayer(inp,\n",
    "                         input_size=len(source_letters),\n",
    "                         output_size=50)\n",
    "    \n",
    "    #encoder rnn\n",
    "    rnn = GRULayer(incoming=emb,\n",
    "                   num_units=512,\n",
    "                   mask_input=mask)\n",
    "    \n",
    "    #slice last time-step of encoder rnn\n",
    "    rnn_last = SliceLayer(rnn,-1,axis=1,name='last rnn time-step')\n",
    "    \n",
    "    #compute decoder initial state\n",
    "    code = DenseLayer(rnn_last,512,nonlinearity=T.tanh)"
   ]
  },
  {
   "cell_type": "markdown",
   "metadata": {},
   "source": [
    "## Decoder\n",
    "In this section, we will define one step of decoder (just like we defined one step of agent last week)"
   ]
  },
  {
   "cell_type": "code",
   "execution_count": 13,
   "metadata": {
    "collapsed": true
   },
   "outputs": [],
   "source": [
    "from agentnet.memory import RNNCell,GRUCell,LSTMCell\n",
    "from agentnet.resolver import ProbabilisticResolver"
   ]
  },
  {
   "cell_type": "code",
   "execution_count": 14,
   "metadata": {
    "collapsed": true
   },
   "outputs": [],
   "source": [
    "class decoder:\n",
    "    \"\"\"single step of decoder rnn\"\"\"\n",
    "    \n",
    "    inp = InputLayer((None,),name=\"prev phoneme\")\n",
    "    \n",
    "    emb = EmbeddingLayer(inp, len(target_letters), 50)\n",
    "    \n",
    "    #decoder memory\n",
    "    prev_gru = InputLayer((None,512))\n",
    "    \n",
    "    gru = GRUCell(prev_gru, emb) #use shift-tab to figure out what goes here\n",
    "    \n",
    "    logits = DenseLayer(gru,len(target_letters),nonlinearity=None)\n",
    "    \n",
    "    #probabilities\n",
    "    probs = NonlinearityLayer(logits,T.nnet.softmax)\n",
    "    \n",
    "    #output phonemes\n",
    "    out = ProbabilisticResolver(probs,assume_normalized=True)\n",
    "    \n",
    "    #log-probabilities\n",
    "    logprobs = NonlinearityLayer(logits,T.nnet.logsoftmax)"
   ]
  },
  {
   "cell_type": "markdown",
   "metadata": {},
   "source": [
    "## Wire it all together\n",
    "Here we define functions for model inference (both greedy and sampled)."
   ]
  },
  {
   "cell_type": "code",
   "execution_count": 15,
   "metadata": {
    "collapsed": true
   },
   "outputs": [],
   "source": [
    "from agentnet import Recurrence\n",
    "from collections import OrderedDict as od\n",
    "class model:\n",
    "    # 추론을 위한 최대 결과 크기\n",
    "    n_steps = theano.shared(MAX_OUTPUT_LENGTH)\n",
    "    \n",
    "    #특별한 음소 \"START\"를 인덱스\n",
    "    l_start = InputLayer((None,),T.zeros_like(encoder.input_sequence[:,0])+BOS_ix_target)\n",
    "\n",
    "    #recurrence를 정의하자: 커스텀 recurrence 레이어, lasagne 레이어라는 것만 제외하면 \n",
    "    #정확하게 Agent처럼 동작한다.\n",
    "    \n",
    "    rec = Recurrence(\n",
    "        #recurrent states\n",
    "        state_variables=od({decoder.gru:decoder.prev_gru,\n",
    "                            decoder.out:decoder.inp}),\n",
    "        \n",
    "        #initial values for recurrent states\n",
    "        state_init={decoder.out:l_start,\n",
    "                    decoder.gru:encoder.code,},\n",
    "        \n",
    "        tracked_outputs=(decoder.out,decoder.probs,decoder.logprobs),\n",
    "        \n",
    "        unroll_scan=False,\n",
    "        n_steps=n_steps\n",
    "    )\n",
    "    \n",
    "    weights = get_all_params(rec,trainable=True)\n",
    "    \n",
    "    #sample mode\n",
    "    predicted_translations,probs_seq,logprobs_seq = get_output(rec[decoder.out,decoder.probs,decoder.logprobs])\n",
    "    auto_updates = rec.get_automatic_updates()\n",
    "\n",
    "    #output mask\n",
    "    mask = get_mask_by_eos(T.eq(predicted_translations,EOS_ix_target))\n",
    "    \n",
    "    generate_sample = theano.function([encoder.input_sequence],predicted_translations,\n",
    "                                      updates=auto_updates)\n",
    "    \n",
    "    #greedy mode (picking max-probability actions on each step)\n",
    "    greedy_translations = get_output(rec[decoder.out],recurrence_flags={\"greedy\":True})\n",
    "    greedy_auto_updates = rec.get_automatic_updates()\n",
    "    \n",
    "    greedy_mask = get_mask_by_eos(T.eq(greedy_translations,EOS_ix_target))\n",
    "    \n",
    "    \n",
    "    generate_greedy = theano.function([encoder.input_sequence],greedy_translations,\n",
    "                                       updates=greedy_auto_updates)\n",
    "    \n",
    "    @staticmethod\n",
    "    def translate(word,sample=False):\n",
    "        assert word.endswith(END)\n",
    "        \n",
    "        #convert to matrix\n",
    "        word_ix = as_matrix([word.lower()],source_to_ix)\n",
    "        \n",
    "        #generate output\n",
    "        if sample:\n",
    "            trans_ix = model.generate_sample(word_ix)[0]\n",
    "        else:\n",
    "            trans_ix = model.generate_greedy(word_ix)[0]\n",
    "        \n",
    "        #convert from int32 to string\n",
    "        trans = list(map(target_letters.__getitem__,trans_ix))\n",
    "        \n",
    "        #crop padding\n",
    "        if END in trans:\n",
    "            trans = trans[:trans.index(END)+1]\n",
    "            \n",
    "        return ''.join(trans)\n",
    "\n"
   ]
  },
  {
   "cell_type": "code",
   "execution_count": 16,
   "metadata": {},
   "outputs": [
    {
     "name": "stdout",
     "output_type": "stream",
     "text": [
      "x:אנרכיזם;\n",
      "y_sampled:ḫ仙لղếěťصů`ả?ēա½זţęרů\n",
      "y_greedy:ккккōō9óн=ģ守守i8ע-iṃh\n"
     ]
    }
   ],
   "source": [
    "#test untrained model\n",
    "#should be random\n",
    "print ('x:'+all_words[0])\n",
    "print ('y_sampled:'+model.translate(all_words[0],sample=True))\n",
    "print ('y_greedy:'+model.translate(all_words[0]))\n",
    "#praise Cthulhu!\n"
   ]
  },
  {
   "cell_type": "markdown",
   "metadata": {},
   "source": [
    "### Score 함수\n",
    "LogLikelihood는 모델 성능 평가에 좋지 않다.\n",
    "- 제로 확률이 한번 예측 되면, 전체 모델을 망치지 말아야 한다.\n",
    "- 여러개의 바른 답이 있다면 단지 하나의 번역을 배우는 것만으로 충분하다.\n",
    "- 한 단계마다 가장 있을법한 음소를 가지는지 출력해???\n",
    "\n",
    "그러므로, 우리는 최소 Levenshten distance를 사용할 것이다."
   ]
  },
  {
   "cell_type": "code",
   "execution_count": 17,
   "metadata": {
    "collapsed": true
   },
   "outputs": [],
   "source": [
    "import editdistance\n",
    "\n",
    "def get_distance(word, trans):\n",
    "    \"\"\"\n",
    "    워드와 예측된 번역을 입력으로 하고 바른 번역에 얼마나 가까운지 edit distance를 평가한다.\n",
    "    \"\"\"\n",
    "    #print(word)\n",
    "    references = word_to_translation[word]\n",
    "    #print(references)\n",
    "    #print(trans)\n",
    "    assert len(references) !=0, \"word/unknown word\"\n",
    "    return min(editdistance.eval(trans, ref) for ref in references)"
   ]
  },
  {
   "cell_type": "code",
   "execution_count": 18,
   "metadata": {
    "collapsed": true
   },
   "outputs": [],
   "source": [
    "def score(bsize=100):\n",
    "    \"\"\"\n",
    "    bszie의 랜덤 샘플에 대해 levenshtein distance를 계산하는 함수\n",
    "    \"\"\"\n",
    "    batch_words = np.random.choice(test_words, size=(bsize,)) \n",
    "    #for word in batch_words:\n",
    "    #    print(word)\n",
    "    predictions = [model.translate(word) for word in batch_words]\n",
    "    #for p in predictions:\n",
    "    #    print(p)\n",
    "    #print(predictions)\n",
    "    distances = [get_distance(word, prediction) for (word, prediction) in zip(batch_words, predictions)]    \n",
    "    return np.array(distances,dtype='float32')   "
   ]
  },
  {
   "cell_type": "code",
   "execution_count": 19,
   "metadata": {},
   "outputs": [
    {
     "data": {
      "text/plain": [
       "[19.719999,\n",
       " 19.799999,\n",
       " 19.620001,\n",
       " 19.65,\n",
       " 19.780001,\n",
       " 19.549999,\n",
       " 19.85,\n",
       " 19.5,\n",
       " 19.639999,\n",
       " 19.879999]"
      ]
     },
     "execution_count": 19,
     "metadata": {},
     "output_type": "execute_result"
    }
   ],
   "source": [
    "#should be around 5-50 and decrease rapidly :)\n",
    "[score(100).mean() for _ in range(10)]"
   ]
  },
  {
   "cell_type": "markdown",
   "metadata": {},
   "source": [
    "## Step 4: Supervised pre-training\n",
    "여기에서 로그 우도를 최대화 함으로써 모델을 학습하는 함수를 정의하자."
   ]
  },
  {
   "cell_type": "code",
   "execution_count": 20,
   "metadata": {
    "collapsed": true
   },
   "outputs": [],
   "source": [
    "from agentnet.learning.generic import get_values_for_actions\n",
    "\n",
    "class llh_trainer:\n",
    "\n",
    "    #정답에 대한 변수\n",
    "    reference_answers = T.imatrix(\"reference translations\")\n",
    "    \n",
    "    #이전 답을 얻기위해 이전으로 한단계 시프트하자\n",
    "    prev_answers = T.concatenate([T.zeros_like(reference_answers[:,:1])+BOS_ix_target,\n",
    "                                  reference_answers[:,:-1]],axis=1)\n",
    "    \n",
    "    #이전 해답에 대해 마스크하자\n",
    "    input_mask = get_mask_by_eos(T.eq(prev_answers,EOS_ix_target))\n",
    "    \n",
    "    #입력 레이어 만들자\n",
    "    l_sequence = InputLayer((None,None),prev_answers)\n",
    "    l_mask = InputLayer((None,None),input_mask)\n",
    "    \n",
    "    #teacher-forced 학습\n",
    "    rec = Recurrence(state_variables=od({decoder.gru:decoder.prev_gru}),\n",
    "                     input_sequences={decoder.inp:l_sequence},\n",
    "                     state_init={decoder.gru:encoder.code},\n",
    "                     tracked_outputs=(decoder.probs,decoder.logprobs),\n",
    "                     unroll_scan=False,\n",
    "                     mask_input=l_mask)\n",
    "    \n",
    "    \n",
    "    #로그 확률 얻자\n",
    "    logprobs_seq = get_output(rec[decoder.logprobs])\n",
    "    auto_updates = rec.get_automatic_updates()\n",
    "    \n",
    "    #mean crossentropy 계한하자\n",
    "    crossentropy = -get_values_for_actions(logprobs_seq,reference_answers)\n",
    "    \n",
    "    loss = T.sum(crossentropy*input_mask)/T.sum(input_mask)\n",
    "    \n",
    "    #get all params\n",
    "    weights = get_all_params(rec,trainable=True)\n",
    "    #print(weights)\n",
    "    \n",
    "    #weight updates                 \n",
    "    updates = lasagne.updates.adam(loss, weights)\n",
    "    #<compute weight updates>\n",
    "    \n",
    "    train_step = theano.function([encoder.input_sequence,reference_answers],loss,\n",
    "                                 updates=auto_updates+updates)"
   ]
  },
  {
   "cell_type": "code",
   "execution_count": 21,
   "metadata": {},
   "outputs": [
    {
     "data": {
      "image/png": "[encoded data removed]",
      "text/plain": [
       "<matplotlib.figure.Figure at 0x7f6d6b891c50>"
      ]
     },
     "metadata": {},
     "output_type": "display_data"
    },
    {
     "name": "stderr",
     "output_type": "stream",
     "text": [
      "\r",
      "100%|██████████| 25000/25000 [37:05<00:00,  3.73it/s]"
     ]
    },
    {
     "name": "stdout",
     "output_type": "stream",
     "text": [
      "llh=0.833, mean score=5.967\n"
     ]
    },
    {
     "name": "stderr",
     "output_type": "stream",
     "text": [
      "\n"
     ]
    }
   ],
   "source": [
    "from IPython.display import clear_output\n",
    "from tqdm import tqdm,trange #or use tqdm_notebook,tnrange\n",
    "\n",
    "loss_history=[]\n",
    "editdist_history = []\n",
    "\n",
    "for i in trange(25000):\n",
    "    loss_history.append(\n",
    "            llh_trainer.train_step(*sample_batch(train_words,word_to_translation,32)))\n",
    "    \n",
    "    if (i+1)%REPORT_FREQ==0:\n",
    "        clear_output(True)\n",
    "        current_scores = score()\n",
    "        editdist_history.append(current_scores.mean())\n",
    "        plt.figure(figsize=(8,4))\n",
    "        plt.subplot(121)\n",
    "        plt.title('val score distribution')\n",
    "        plt.hist(current_scores, bins = 20)\n",
    "        plt.subplot(122)\n",
    "        plt.title('val score / traning time')\n",
    "        plt.plot(editdist_history)\n",
    "        plt.grid()\n",
    "        plt.show()\n",
    "        print(\"llh=%.3f, mean score=%.3f\"%(np.mean(loss_history[-10:]),np.mean(editdist_history[-10:])))"
   ]
  },
  {
   "cell_type": "code",
   "execution_count": 23,
   "metadata": {},
   "outputs": [
    {
     "name": "stdout",
     "output_type": "stream",
     "text": [
      "עלי נאסר; -> ali nassar;\n",
      "קטגוריה:בלפסט; -> bellpsp;\n",
      "ארבינקא; -> arbinka;\n",
      "זיכרון נוהלי; -> nector of denmali;\n",
      "scar tissue; -> scar tisco;\n",
      "עמק האלבה בדרזדן; -> arabsed stadium;\n",
      "ז'ורז' בולנז'ה; -> georges bullange;\n",
      "מילקן; -> milken;\n",
      "כביש 73; -> highway 73;\n",
      "אלין; -> ellin;\n"
     ]
    }
   ],
   "source": [
    "for word in train_words[:10]:\n",
    "    print(\"%s -> %s\"%(word,model.translate(word)))"
   ]
  },
  {
   "cell_type": "markdown",
   "metadata": {
    "collapsed": true
   },
   "source": [
    "## Step 5: 정책 그라디언트(Policy gradient )\n",
    "\n",
    "우선 커스텀 theano 연산으로 손실(loss) 함수를 정의 할 필요가 있다.\n",
    "\n",
    "그렇게 하는 간단한 방법은 아래와 같다.\n",
    "\n",
    "    @theano.compile.as_op(input_types,output_type(s),infer_shape)\n",
    "    def my_super_function(inputs):\n",
    "        return outputs\n",
    "\n",
    "우리 작업은 단어와 번역 행렬들을 입력으로 가지고 그것들을 실제 단어 그리고 음절로 변환하고 위에 get_distance 함수를 통해서 min-levenshtein를 계산하는 _compute_levenshtein을 구현하는 것이다."
   ]
  },
  {
   "cell_type": "code",
   "execution_count": 24,
   "metadata": {
    "collapsed": true
   },
   "outputs": [],
   "source": [
    "@theano.compile.as_op([T.imatrix]*4,[T.fvector],lambda _,shapes: [shapes[0][:1]])\n",
    "def _compute_levenshtein(words_ix,words_mask,trans_ix,trans_mask):\n",
    "    \"\"\"\n",
    "    예측된 번역에 대한 levenshtein 손실을 계산하는 커스텀 theano 연산이다.\n",
    "    \n",
    "    Params:\n",
    "    - words_ix - 문자 인덱스 행렬, shape=[batch_size, word_length]\n",
    "    - words_mask - 0과1로 구성된 행렬,\n",
    "        1은 단어는 아직 끝나지 않았음을 의미한다.\n",
    "        0은 단어는 이미 끝나고 이것은 패딩이다는 것을 의미한다.\n",
    "    -trans_ix - 결과 문자 인덱스 행렬, shape=[batch_size,translation_length]\n",
    "    -trans_mask - 0과1로 구성된 행렬 word_mask와 유사하다. 그러나 tans_ix를 위한 것이다.\n",
    "    \n",
    "    \"\"\"\n",
    "    \n",
    "    #convert words to strings\n",
    "    #<your code here>\n",
    "    words = []\n",
    "    for i, letters_ix in enumerate(words_ix):\n",
    "        word = ''.join([source_letters[letter_ix] for letter_ix in letters_ix][:sum(words_mask[i])])\n",
    "        words.append(word)\n",
    "        \n",
    "    #<restore words (a list of strings) from words_ix and words_mask>\n",
    "\n",
    "    assert type(words) is list\n",
    "    assert type(words[0]) is str \n",
    "    assert len(words)==len(words_ix)\n",
    "    \n",
    "    #convert translations to lists    \n",
    "    translations = []\n",
    "    for i, tran_ix in enumerate(trans_ix):\n",
    "        tran = ''.join([target_letters[letter_ix] for letter_ix in tran_ix][:sum(trans_mask[i])])\n",
    "        translations.append(tran)\n",
    "    \n",
    "        \n",
    "    assert type(translations) is list\n",
    "    assert type(translations[0]) is str\n",
    "    assert len(translations)==len(trans_ix)\n",
    "\n",
    "    #computes levenstein distances. can be arbitrary python code.\n",
    "    distances = [get_distance(w,t) for w, t in zip(words, translations)]\n",
    "    #<apply get_distance to each pair of [words,translations]>\n",
    "    \n",
    "    assert type(distances) in (list,tuple,np.ndarray) and len(distances) == len(words_ix)\n",
    "    \n",
    "    distances = np.array(list(distances),dtype='float32')\n",
    "    return distances\n",
    "\n",
    "#forbid gradient\n",
    "from theano.gradient import disconnected_grad\n",
    "def compute_levenshtein(*args):\n",
    "    return disconnected_grad(_compute_levenshtein(*[arg.astype('int32') for arg in args]))"
   ]
  },
  {
   "cell_type": "code",
   "execution_count": 25,
   "metadata": {
    "collapsed": true
   },
   "outputs": [],
   "source": [
    "#test suite\n",
    "#sample random batch of (words, correct trans, wrong trans)\n",
    "batch_words = np.random.choice(train_words, size=100 )\n",
    "batch_trans = list(map(random.choice,map(word_to_translation.get,batch_words )))\n",
    "batch_trans_wrong = np.random.choice(all_translations,size=100)\n",
    "\n",
    "batch_words_ix = T.constant(as_matrix(batch_words,source_to_ix))\n",
    "batch_trans_ix = T.constant(as_matrix(batch_trans,target_to_ix))\n",
    "batch_trans_wrong_ix = T.constant(as_matrix(batch_trans_wrong,target_to_ix))\n",
    "\n",
    "batch_words_mask = get_mask_by_eos(T.eq(batch_words_ix,EOS_ix_source))\n",
    "batch_trans_mask = get_mask_by_eos(T.eq(batch_trans_ix,EOS_ix_target))\n",
    "batch_trans_wrong_mask = get_mask_by_eos(T.eq(batch_trans_wrong_ix,EOS_ix_target))"
   ]
  },
  {
   "cell_type": "code",
   "execution_count": 26,
   "metadata": {},
   "outputs": [
    {
     "name": "stdout",
     "output_type": "stream",
     "text": [
      "Everything seems alright!\n"
     ]
    }
   ],
   "source": [
    "#assert compute_levenshtein is zero for ideal translations\n",
    "correct_answers_score = compute_levenshtein(batch_words_ix,batch_words_mask,\n",
    "                                            batch_trans_ix,batch_trans_mask).eval()\n",
    "\n",
    "assert np.all(correct_answers_score==0),\"a perfect translation got nonzero levenshtein score!\"\n",
    "\n",
    "print(\"Everything seems alright!\")"
   ]
  },
  {
   "cell_type": "code",
   "execution_count": 27,
   "metadata": {},
   "outputs": [
    {
     "name": "stdout",
     "output_type": "stream",
     "text": [
      "Everything seems alright!\n"
     ]
    }
   ],
   "source": [
    "#assert compute_levenshtein matches actual scoring function\n",
    "wrong_answers_score = compute_levenshtein(batch_words_ix,batch_words_mask,\n",
    "                                            batch_trans_wrong_ix,batch_trans_wrong_mask).eval()\n",
    "\n",
    "true_wrong_answers_score = np.array(list(map(get_distance,batch_words,batch_trans_wrong)))\n",
    "\n",
    "assert np.all(wrong_answers_score==true_wrong_answers_score),\"for some word symbolic levenshtein is different from actual levenshtein distance\"\n",
    "\n",
    "print(\"Everything seems alright!\")"
   ]
  },
  {
   "cell_type": "markdown",
   "metadata": {},
   "source": [
    "## Self-critical policy gradient\n",
    "이 섹션에서, self-critical sequence학습이라고 하는 알고리즘을 구현할 것이다.\n",
    "이 알고리즘은 특별한 베이스라인을 가진 바닐라 정책 그라디언트이다.\n",
    "\n",
    "$$ \\nabla J = E_{x \\sim p(s)} E_{y \\sim \\pi(y|x)} \\nabla log \\pi(y|x) \\cdot (R(x,y) - b(x)) $$\n",
    "\n",
    "여기서 R(x,y)는 네가티브 levenshtein distance 이다(그것을 최소화 하기 때문이다). 베이스라인 b(x)는 단어 x에 대하 모델이 얼마나 되는지 나타낸다. 실제적으로, 이것은 그라디(greedy) 번역 점수로써 베이스라인을 계산한다는 것을 의미한다, $b(x) = R(x,y_{greedy}(x)) $.\n",
    "운좋게, 요구되는 결과를 이미 얻었다:\n",
    "model.greedy_translations, model.greedy_mask 그리고 단지 compute_levenshtein함수를 사용해서 levenshtein를 계산할 필요가 있다. "
   ]
  },
  {
   "cell_type": "code",
   "execution_count": 28,
   "metadata": {
    "collapsed": true
   },
   "outputs": [],
   "source": [
    "from agentnet.learning.generic import get_values_for_actions\n",
    "\n",
    "class trainer:    \n",
    "    \n",
    "    rewards = -compute_levenshtein(encoder.input_sequence,encoder.input_mask,\n",
    "                                   model.predicted_translations,model.mask)\n",
    "    \n",
    "    baseline = -compute_levenshtein(encoder.input_sequence,encoder.input_mask,\n",
    "                                   model.greedy_translations,model.greedy_mask)\n",
    "\n",
    "    #<compute __negative__ levenshtein for greedy mode>\n",
    "    \n",
    "    #compute advantage using rewards and baseline\n",
    "    advantage = rewards - baseline #<your code - compute advantage>\n",
    "    \n",
    "    \n",
    "    #compute log_pi(a_t|s_t), shape = [batch,seq_length]\n",
    "    phoneme_logprobs = get_values_for_actions(model.logprobs_seq, model.predicted_translations)\n",
    "    \n",
    "    #policy gradient\n",
    "    J = phoneme_logprobs*advantage[:,None]\n",
    "    \n",
    "    loss = -T.sum(J*model.mask) / model.mask.sum()\n",
    "    \n",
    "    \n",
    "    #regularize with negative entropy\n",
    "    phoneme_probs = get_values_for_actions(model.probs_seq, model.predicted_translations)\n",
    "    entropy = -phoneme_probs*phoneme_logprobs\n",
    "    #<compute entropy matrix of shape [batch,seq_length], H=-sum(p*log_p), don't forget the sign!>\n",
    "\n",
    "    loss -= 0.01*(model.mask*entropy).sum() / model.mask.sum()\n",
    "    \n",
    "    \n",
    "    # Compute weight updates, clip by norm\n",
    "    grads = T.grad(loss,model.weights)\n",
    "    grads = lasagne.updates.total_norm_constraint(grads,10)\n",
    "\n",
    "    updates = lasagne.updates.adam(grads, model.weights,learning_rate=1e-5) \n",
    "\n",
    "    train_step = theano.function([encoder.input_sequence],loss,\n",
    "                                 updates = model.auto_updates+model.greedy_auto_updates+updates)"
   ]
  },
  {
   "cell_type": "markdown",
   "metadata": {},
   "source": [
    "## 정책 그라디언트 학습(Policy gradient training)"
   ]
  },
  {
   "cell_type": "code",
   "execution_count": 29,
   "metadata": {},
   "outputs": [
    {
     "data": {
      "image/png": "[encoded data removed]",
      "text/plain": [
       "<matplotlib.figure.Figure at 0x7f6d57e65080>"
      ]
     },
     "metadata": {},
     "output_type": "display_data"
    },
    {
     "name": "stderr",
     "output_type": "stream",
     "text": [
      "\r",
      "100%|██████████| 100000/100000 [2:55:39<00:00,  3.49it/s]"
     ]
    },
    {
     "name": "stdout",
     "output_type": "stream",
     "text": [
      "J=-0.526, mean score=5.101\n"
     ]
    },
    {
     "name": "stderr",
     "output_type": "stream",
     "text": [
      "\n"
     ]
    }
   ],
   "source": [
    "for i in trange(100000):\n",
    "    loss_history.append(\n",
    "        trainer.train_step(sample_batch(train_words,word_to_translation,32)[0])\n",
    "        )\n",
    "    \n",
    "    if (i+1)%REPORT_FREQ==0:\n",
    "        clear_output(True)\n",
    "        current_scores = score()\n",
    "        editdist_history.append(current_scores.mean())\n",
    "        plt.figure(figsize=(8,4))\n",
    "        plt.subplot(121)\n",
    "        plt.title('val score distribution')\n",
    "        plt.hist(current_scores, bins = 20)\n",
    "        plt.subplot(122)\n",
    "        plt.title('val score / traning time')\n",
    "        plt.plot(editdist_history)\n",
    "        plt.grid()\n",
    "        plt.show()\n",
    "        print(\"J=%.3f, mean score=%.3f\"%(np.mean(loss_history[-10:]),np.mean(editdist_history[-10:])))"
   ]
  },
  {
   "cell_type": "markdown",
   "metadata": {},
   "source": [
    "## 결과"
   ]
  },
  {
   "cell_type": "code",
   "execution_count": 30,
   "metadata": {},
   "outputs": [
    {
     "data": {
      "text/plain": [
       "'example;'"
      ]
     },
     "execution_count": 30,
     "metadata": {},
     "output_type": "execute_result"
    }
   ],
   "source": [
    "model.translate(\"EXAMPLE;\")"
   ]
  },
  {
   "cell_type": "code",
   "execution_count": null,
   "metadata": {},
   "outputs": [],
   "source": [
    "#predicted_translations = list(map(model.translate,tqdm(test_words)))\n",
    "#distances = map(get_score,test_words,predicted_translations)\n",
    "\n",
    "#print (\"Mean Levenshtein distance:\",np.mean(distances))\n",
    "#print (\"Median Levenshtein distance:\",np.median(distances))\n",
    "#plt.hist(distances,range=[0,10]);"
   ]
  },
  {
   "cell_type": "markdown",
   "metadata": {},
   "source": []
  }
 ],
 "metadata": {
  "kernelspec": {
   "display_name": "Python 3",
   "language": "python",
   "name": "python3"
  },
  "language_info": {
   "codemirror_mode": {
    "name": "ipython",
    "version": 3
   },
   "file_extension": ".py",
   "mimetype": "text/x-python",
   "name": "python",
   "nbconvert_exporter": "python",
   "pygments_lexer": "ipython3",
   "version": "3.6.0"
  }
 },
 "nbformat": 4,
 "nbformat_minor": 2
}
